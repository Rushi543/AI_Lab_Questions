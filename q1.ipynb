{
  "nbformat": 4,
  "nbformat_minor": 0,
  "metadata": {
    "colab": {
      "provenance": [],
      "authorship_tag": "ABX9TyMhrryfG1JQbuHf7kti9/3S",
      "include_colab_link": true
    },
    "kernelspec": {
      "name": "python3",
      "display_name": "Python 3"
    },
    "language_info": {
      "name": "python"
    }
  },
  "cells": [
    {
      "cell_type": "markdown",
      "metadata": {
        "id": "view-in-github",
        "colab_type": "text"
      },
      "source": [
        "<a href=\"https://colab.research.google.com/github/Rushi543/AI_Lab_Questions/blob/main/q1.ipynb\" target=\"_parent\"><img src=\"https://colab.research.google.com/assets/colab-badge.svg\" alt=\"Open In Colab\"/></a>"
      ]
    },
    {
      "cell_type": "code",
      "execution_count": null,
      "metadata": {
        "colab": {
          "base_uri": "https://localhost:8080/"
        },
        "id": "9MOhUJW8LJlt",
        "outputId": "2a89ca22-48c9-4dc5-a329-278ce8580186"
      },
      "outputs": [
        {
          "output_type": "stream",
          "name": "stdout",
          "text": [
            "9999999\n",
            "Expected average return: 34576.33573\n"
          ]
        }
      ],
      "source": [
        "import numpy as np\n",
        "\n",
        "# Define the MDP parameters\n",
        "probability = [0.99, 0.9, 0.8, 0.7, 0.6, 0.5, 0.4, 0.3, 0.2, 0.1]\n",
        "rewards = [100, 500, 1000, 5000, 10000, 50000, 100000, 500000, 1000000, 5000000]\n",
        "\n",
        "def monte_carlo(episodes):\n",
        "    totalReward=0\n",
        "    for i in range(episodes):\n",
        "        state = 0\n",
        "        reward = 0\n",
        "        policy = [1]*10\n",
        "        \n",
        "        while True:\n",
        "            if state>9:\n",
        "                break\n",
        "            action = policy[state]\n",
        "            if action==0:\n",
        "                break\n",
        "            chance = np.random.rand()\n",
        "            \n",
        "            if chance<probability[state]:\n",
        "                reward+=rewards[state]\n",
        "                state+=1\n",
        "            else:\n",
        "                break    \n",
        "        totalReward+=reward\n",
        "    print(i)\n",
        "    return totalReward\n",
        "\n",
        "\n",
        "\n",
        "# Run the Monte Carlo simulation with the initial policy\n",
        "num_episodes = 10000000\n",
        "avg_reward = monte_carlo(num_episodes)/num_episodes\n",
        "\n",
        "# Print the expected average return\n",
        "print(\"Expected average return:\", avg_reward)    "
      ]
    }
  ]
}