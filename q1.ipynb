{
  "cells": [
    {
      "cell_type": "code",
      "execution_count": 1,
      "metadata": {
        "id": "9MOhUJW8LJlt"
      },
      "outputs": [
        {
          "ename": "ModuleNotFoundError",
          "evalue": "No module named 'numpy'",
          "output_type": "error",
          "traceback": [
            "\u001b[1;31m---------------------------------------------------------------------------\u001b[0m",
            "\u001b[1;31mModuleNotFoundError\u001b[0m                       Traceback (most recent call last)",
            "\u001b[1;32md:\\College\\CS302\\lab\\q1.ipynb Cell 1\u001b[0m in \u001b[0;36m<cell line: 1>\u001b[1;34m()\u001b[0m\n\u001b[1;32m----> <a href='vscode-notebook-cell:/d%3A/College/CS302/lab/q1.ipynb#W0sZmlsZQ%3D%3D?line=0'>1</a>\u001b[0m \u001b[39mimport\u001b[39;00m \u001b[39mnumpy\u001b[39;00m \u001b[39mas\u001b[39;00m \u001b[39mnp\u001b[39;00m\n\u001b[0;32m      <a href='vscode-notebook-cell:/d%3A/College/CS302/lab/q1.ipynb#W0sZmlsZQ%3D%3D?line=2'>3</a>\u001b[0m \u001b[39m# Define the MDP parameters\u001b[39;00m\n\u001b[0;32m      <a href='vscode-notebook-cell:/d%3A/College/CS302/lab/q1.ipynb#W0sZmlsZQ%3D%3D?line=3'>4</a>\u001b[0m probability \u001b[39m=\u001b[39m [\u001b[39m0.99\u001b[39m, \u001b[39m0.9\u001b[39m, \u001b[39m0.8\u001b[39m, \u001b[39m0.7\u001b[39m, \u001b[39m0.6\u001b[39m, \u001b[39m0.5\u001b[39m, \u001b[39m0.4\u001b[39m, \u001b[39m0.3\u001b[39m, \u001b[39m0.2\u001b[39m, \u001b[39m0.1\u001b[39m]\n",
            "\u001b[1;31mModuleNotFoundError\u001b[0m: No module named 'numpy'"
          ]
        }
      ],
      "source": [
        "import numpy as np\n",
        "\n",
        "# Define the MDP parameters\n",
        "probability = [0.99, 0.9, 0.8, 0.7, 0.6, 0.5, 0.4, 0.3, 0.2, 0.1]\n",
        "rewards = [100, 500, 1000, 5000, 10000, 50000, 100000, 500000, 1000000, 5000000]\n",
        "\n",
        "def monte_carlo(episodes):\n",
        "    totalReward=0\n",
        "    for i in range(episodes):\n",
        "        state = 0\n",
        "        reward = 0\n",
        "        policy = [1]*10\n",
        "        \n",
        "        while True:\n",
        "            if state>9:\n",
        "                break\n",
        "            action = policy[state]\n",
        "            if action==0:\n",
        "                break\n",
        "            chance = np.random.rand()\n",
        "            \n",
        "            if chance<probability[state]:\n",
        "                reward+=rewards[state]\n",
        "                state+=1\n",
        "            else:\n",
        "                break    \n",
        "        totalReward+=reward\n",
        "    print(i)\n",
        "    return totalReward\n",
        "\n",
        "\n",
        "\n",
        "# Run the Monte Carlo simulation with the initial policy\n",
        "num_episodes = 10000000\n",
        "avg_reward = monte_carlo(num_episodes)/num_episodes\n",
        "\n",
        "# Print the expected average return\n",
        "print(\"Expected average return:\", avg_reward)    "
      ]
    }
  ],
  "metadata": {
    "colab": {
      "provenance": []
    },
    "kernelspec": {
      "display_name": "Python 3",
      "name": "python3"
    },
    "language_info": {
      "codemirror_mode": {
        "name": "ipython",
        "version": 3
      },
      "file_extension": ".py",
      "mimetype": "text/x-python",
      "name": "python",
      "nbconvert_exporter": "python",
      "pygments_lexer": "ipython3",
      "version": "3.10.6"
    }
  },
  "nbformat": 4,
  "nbformat_minor": 0
}
